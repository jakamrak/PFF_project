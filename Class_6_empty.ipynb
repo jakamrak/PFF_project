{
  "cells": [
    {
      "cell_type": "markdown",
      "metadata": {
        "id": "6MoKf2gg3bR8"
      },
      "source": [
        "# Python for Finance - Class 6 test add to github push\n"
      ]
    },
    {
      "cell_type": "markdown",
      "metadata": {
        "id": "pZIDjR5K3bSA"
      },
      "source": [
        "## Learning Objectives\n",
        "\n",
        "- 1.Dataframe\n",
        "    - generate df\n",
        "    - row index\n",
        "- 2.Get data\n",
        "    - local file\n",
        "    - web & cloud\n",
        "    - API with library\n",
        "- 3.Select data\n",
        "    - slicing\n",
        "    - filtering"
      ]
    },
    {
      "cell_type": "markdown",
      "metadata": {
        "id": "hI2ZUj3j3bSA"
      },
      "source": [
        "Main ideas:\n",
        "\n",
        "- *Series*: sequence of values, with\n",
        "    - a name\n",
        "    - row index\n",
        "\n",
        "- *Dataframe*: tabular data\n",
        "    - each column is a series (with a name)\n",
        "    - row index\n",
        "    - should remain in 2D: rows and columns\n",
        "\n",
        "---\n",
        "\n",
        "Row index:\n",
        "- integers by default\n",
        "- can be customized: dates, id, etc. (should be unique)\n",
        "- high-dimensional data: multi-level row index\n"
      ]
    },
    {
      "cell_type": "code",
      "execution_count": 2,
      "metadata": {
        "id": "LWL6yqnr3bSB"
      },
      "outputs": [],
      "source": [
        "# import libraries\n",
        "import pandas as pd\n",
        "import numpy as np"
      ]
    },
    {
      "cell_type": "markdown",
      "metadata": {
        "id": "WQut6kmB3bSD"
      },
      "source": [
        "# 1. Generate data"
      ]
    },
    {
      "cell_type": "markdown",
      "metadata": {
        "id": "jJQscok-3bSD"
      },
      "source": [
        "\n",
        "Need data objects of *sequence* type:\n",
        "\n",
        "```python\n",
        "# generate a series from data\n",
        "pd.Series(data,series_name,[row_index])\n",
        "\n",
        "# generate a dataframe from data\n",
        "pd.DataFrame(data, columns = columns_name,[row_index])\n",
        "\n",
        "```\n",
        "\n",
        "---\n",
        "\n",
        "- data: *sequence* type, e.g. lists, dictionaries, ndarrays\n",
        "- `[row_index]`: optional, default is integers"
      ]
    },
    {
      "cell_type": "code",
      "execution_count": null,
      "metadata": {
        "id": "QRsuKxP43bSD"
      },
      "outputs": [],
      "source": [
        "## example series\n",
        "\n",
        "# create an array from 1 to 10 (inclusive)\n",
        "\n",
        "\n",
        "# create a series\n",
        "\n",
        "\n",
        "# create a series with name and index\n",
        "\n"
      ]
    },
    {
      "cell_type": "code",
      "execution_count": 5,
      "metadata": {
        "id": "Zi6kHLWe3bSE",
        "outputId": "77d876a8-f029-469f-d031-8a98bad2525c",
        "colab": {
          "base_uri": "https://localhost:8080/"
        }
      },
      "outputs": [
        {
          "output_type": "stream",
          "name": "stdout",
          "text": [
            "97 122\n"
          ]
        },
        {
          "output_type": "execute_result",
          "data": {
            "text/plain": [
              "DatetimeIndex(['2018-02-01', '2018-02-02', '2018-02-03', '2018-02-04',\n",
              "               '2018-02-05', '2018-02-06', '2018-02-07', '2018-02-08',\n",
              "               '2018-02-09', '2018-02-10', '2018-02-11', '2018-02-12',\n",
              "               '2018-02-13', '2018-02-14', '2018-02-15'],\n",
              "              dtype='datetime64[ns]', freq='D')"
            ]
          },
          "metadata": {},
          "execution_count": 5
        }
      ],
      "source": [
        "## example DataFrame\n",
        "\n",
        "# generate a sequence of dates: pandas function\n",
        "dates = pd.date_range(start='2018/02/01', end='2018/02/15', freq='D')\n",
        "\n",
        "#generate an array of random numbers: numpy function\n",
        "# prices = ...\n",
        "\n",
        "# generate a list of random letters: chr(), ord()\n",
        "print(ord('a'),ord('z'))\n",
        "# letters_list = ...\n",
        "\n",
        "# make a dictionary\n",
        "#d = {'Date': dates,'Price': prices,'Letter': letters_list}\n",
        "\n",
        "# convert to dataframe\n",
        "# df_rand = ...\n",
        "dates\n",
        "# integer index by default"
      ]
    },
    {
      "cell_type": "markdown",
      "metadata": {
        "id": "3jkXIhIq3bSE"
      },
      "source": [
        "## Row index\n",
        "\n",
        "Index is an attribute of the dataframe:\n",
        "\n",
        "`df.index`\n",
        "\n",
        "Important:\n",
        "\n",
        "- row index should be unique, otherwise strange behavior\n",
        "\n",
        "  - index: unique > sorted > non-sorted\n",
        "\n",
        "- check unique index: `df.index.is_unique`\n",
        "\n",
        "---\n",
        "\n",
        "`df.set_index('column_name', drop=True/False)`\n",
        "\n",
        "- output a copied dataframe: with new `row index`\n",
        "\n",
        "- `drop=False`: keep the same column as data\n",
        "  - to reset index later\n",
        "  - to merge or perform operations without altering the index\n",
        "\n",
        "\n",
        "\n"
      ]
    },
    {
      "cell_type": "code",
      "execution_count": null,
      "metadata": {
        "id": "QwXy_5uX3bSF"
      },
      "outputs": [],
      "source": [
        "# check the default index\n",
        "display(df_rand.index)\n",
        "display(list(df_rand.index))\n",
        "\n",
        "# use the dates column as index: keep it as a column\n",
        "# df_date = ...\n",
        "\n",
        "\n",
        "# set index by letters\n",
        "# df_letter = ...\n",
        "\n",
        "# check if index is unique\n"
      ]
    },
    {
      "cell_type": "markdown",
      "metadata": {
        "id": "Q4J8RxOo3bSF"
      },
      "source": [
        "# 2. Get data\n",
        "\n",
        "Data come from external sources:\n",
        "- local files\n",
        "- store in the cloud, or website\n",
        "- databases\n",
        "\n",
        "---\n",
        "\n",
        "Main principles:\n",
        "- access to the storage location: path, URL\n",
        "- read the data, save in a df\n"
      ]
    },
    {
      "cell_type": "markdown",
      "metadata": {
        "id": "PrIujhHQ3bSF"
      },
      "source": [
        "### Read local file\n",
        "\n",
        "\n",
        "\n",
        "- `read_csv(filename,[separator])` where `csv` is an example of file type\n",
        "\n",
        "---\n",
        "\n",
        "- check documentation: `pd.read_csv?`\n",
        "- main parameters:\n",
        "    - `filename`: full path or relative path\n",
        "    - `separator`: default is `,`\n",
        "\n",
        "    \n",
        "   "
      ]
    },
    {
      "cell_type": "code",
      "execution_count": null,
      "metadata": {
        "id": "0JQuzSeF3bSG"
      },
      "outputs": [],
      "source": [
        "# use this library to work with folder paths\n",
        "import os\n",
        "\n",
        "# check current working directory\n",
        "basepath = os.getcwd()\n",
        "print(basepath)\n",
        "\n",
        "# check the files and folder in the current working directory\n",
        "os.listdir() # data is a sub-folder\n",
        "\n",
        "# Win: back slash `\\`\n",
        "# Mac: forward slash `/`"
      ]
    },
    {
      "cell_type": "code",
      "execution_count": null,
      "metadata": {
        "id": "0AY7L9SX3bSG"
      },
      "outputs": [],
      "source": [
        "# load dataset from local csv file\n",
        "# df_apple = pd.read_csv('apple.csv') # only works if the file is in the same folder as the notebook\n",
        "\n",
        "# relative path: sub-folder inside the current folder\n",
        "\n",
        "\n",
        "# if you work in your folder (local or remote), relative path is fine"
      ]
    },
    {
      "cell_type": "code",
      "execution_count": null,
      "metadata": {
        "id": "Kax-bXD43bSH"
      },
      "outputs": [],
      "source": [
        "# full path\n",
        "file = os.path.join(basepath,'data','apple.csv')\n",
        "\n",
        "# load dataset from local csv file: full path\n",
        "df_apple = pd.read_csv(file)\n",
        "display(apple)\n"
      ]
    },
    {
      "cell_type": "markdown",
      "metadata": {
        "id": "7a75U9hG3bSH"
      },
      "source": [
        "### Read data online: web & cloud\n",
        "\n",
        "A data file can be hosted:\n",
        "- on the cloud, e.g. [Google Drive link](https://drive.google.com/file/d/1P_NW-9_smwOiVL3LjtMmvIiUu8Ou6sD6/view?usp=sharing)\n",
        "- on a website\n",
        "\n",
        "We need to know the full path to the file (e.g. 'download link')"
      ]
    },
    {
      "cell_type": "code",
      "execution_count": null,
      "metadata": {
        "id": "VeoPKziI3bSH"
      },
      "outputs": [],
      "source": [
        "# get the sharing link from Google drive\n",
        "# the [-2] element is the id of the file (need to set sharing option: everyone with the link)\n",
        "url = 'https://drive.google.com/file/d/1P_NW-9_smwOiVL3LjtMmvIiUu8Ou6sD6/view?usp=sharing'\n",
        "\n",
        "# get the file id\n",
        "\n",
        "\n",
        "#build the link to get 'download path'\n",
        "path = 'https://drive.google.com/uc?export=download&id=' + file_id\n",
        "df_apple = pd.read_csv(path)\n",
        "\n",
        "display(df_apple)"
      ]
    },
    {
      "cell_type": "markdown",
      "metadata": {
        "id": "kUTDJdnQ3bSH"
      },
      "source": [
        "[Let's visit a friend](https://mba.tuck.dartmouth.edu/pages/faculty/ken.french/data_library.html)\n",
        "\n",
        "Get FF3 data.\n",
        "\n",
        "> How to get the download link?\n",
        "\n",
        "=> right click, copy download link"
      ]
    },
    {
      "cell_type": "code",
      "execution_count": null,
      "metadata": {
        "scrolled": false,
        "id": "MmqTQlM93bSI"
      },
      "outputs": [],
      "source": [
        "# get the link (meaning full path) to the file\n",
        "url = 'https://mba.tuck.dartmouth.edu/pages/faculty/ken.french/ftp/F-F_Research_Data_Factors_CSV.zip'\n",
        "\n",
        "# random stuff in the first 2 rows of data\n",
        "# choose header row position with 'header = '\n",
        "# unzip the file with 'compression = '\n",
        "df_ff3 = pd.read_csv(url, compression='zip', header=2, sep=',')\n",
        "\n",
        "# voilà\n",
        "display(df_ff3)"
      ]
    },
    {
      "cell_type": "code",
      "execution_count": null,
      "metadata": {
        "scrolled": false,
        "id": "mJaf31sJ3bSI"
      },
      "outputs": [],
      "source": [
        "# rename the first column as 'Date'\n",
        "df_ff3 = df_ff3.rename(columns = {'Unnamed: 0':'Date'})\n",
        "\n",
        "# rename all columns with a list\n",
        "df_ff3.columns = ['Date', 'Market', 'Size', 'Value', 'RiskFree']\n",
        "\n",
        "df_ff3.head()"
      ]
    },
    {
      "cell_type": "markdown",
      "metadata": {
        "id": "RW1maAFG3bSI"
      },
      "source": [
        "### Read data from HTML (web page)"
      ]
    },
    {
      "cell_type": "code",
      "execution_count": null,
      "metadata": {
        "id": "KF_mGLPQ3bSJ"
      },
      "outputs": [],
      "source": [
        "# !pip install lxml\n",
        "# !pip install html5lib"
      ]
    },
    {
      "cell_type": "markdown",
      "metadata": {
        "id": "UoJY-MHU3bSJ"
      },
      "source": [
        "Wikipedia page: [S&P500 constituents from wikipedia](https://en.wikipedia.org/wiki/List_of_S%26P_500_companies#Selected_changes_to_the_list_of_S&P_500_components)\n",
        "\n",
        "There's a table of S&P500 constituents: we can take this data."
      ]
    },
    {
      "cell_type": "code",
      "execution_count": null,
      "metadata": {
        "id": "PswLRFX-3bSJ"
      },
      "outputs": [],
      "source": [
        "# set the url\n",
        "url = 'https://en.wikipedia.org/wiki/List_of_S%26P_500_companies#Selected_changes_to_the_list_of_S&P_500_components'\n",
        "\n",
        "# parse the html: return all tables from the web page\n",
        "df_sp500 = pd.read_html(url)[0] # the first table\n",
        "display(df_sp500)"
      ]
    },
    {
      "cell_type": "markdown",
      "metadata": {
        "id": "qN0N2bjT3bSJ"
      },
      "source": [
        "# 3.Select data\n",
        "\n",
        "- Double-nature indexing: by `key` or `position`\n",
        "  - key: column name, row index label\n",
        "  - position: integer"
      ]
    },
    {
      "cell_type": "markdown",
      "metadata": {
        "id": "2RhLvRPp3bSK"
      },
      "source": [
        "### Slice columns\n",
        "\n",
        "A df is a collection of series, similar to a dictionary.\n",
        "\n",
        "Get a series:\n",
        "- single bracket `df['col1']`\n",
        "- as attriute `df.col1` : not recommended\n",
        "\n",
        "Get a df:\n",
        "- list of columns `df[['col1']]`"
      ]
    },
    {
      "cell_type": "code",
      "execution_count": null,
      "metadata": {
        "id": "o5pz_CJH3bSK"
      },
      "outputs": [],
      "source": [
        "# given a df\n",
        "display(df_apple)\n",
        "\n",
        "# select one column as a series:\n",
        "\n",
        "\n",
        "# select one column as a dataframe\n",
        "\n",
        "\n",
        "# select multiple columns: date and close\n",
        "\n"
      ]
    },
    {
      "cell_type": "markdown",
      "metadata": {
        "id": "tEl9sStq3bSK"
      },
      "source": [
        "### Slice rows and columns\n",
        "\n",
        "Interger location: `df.iloc[row,col]`\n",
        "\n",
        "- similar to array: integer indexing\n",
        "  - both row and column\n",
        "  - cannot use labels\n",
        "\n",
        "---\n",
        "\n",
        "Label location: `df.loc[row,col]`\n",
        "\n",
        "- row index: labels as in `df.index`\n",
        "  - customized index: dates, id, etc.\n",
        "  - by default integers\n",
        "\n",
        "- column index: column names as in `df.columns`\n",
        "  \n",
        "\n",
        "\n"
      ]
    },
    {
      "cell_type": "code",
      "execution_count": null,
      "metadata": {
        "id": "g_CcSRqY3bSK"
      },
      "outputs": [],
      "source": [
        "# reuse our df_date dataframe\n",
        "display(df_date)\n",
        "\n",
        "# slice with row position: first 6 rows, first 2 columns\n",
        "\n",
        "\n",
        "# slice with row labels: first 6 rows, first 2 columns\n",
        "\n",
        "\n",
        "# summary:\n",
        "# iloc: integer location\n",
        "# loc: label based location"
      ]
    },
    {
      "cell_type": "markdown",
      "metadata": {
        "id": "M0CzVC3n3bSL"
      },
      "source": [
        "## 4. Filter\n",
        "\n",
        "Main idea: slicing with boolean statements\n",
        "\n",
        "```python\n",
        "# boolean series: return a series of True/False\n",
        "df[col1] > 0\n",
        "\n",
        "# output a subset of df: show only rows where col1 > 0\n",
        "df.loc[df[col1] > 0]\n",
        "```"
      ]
    },
    {
      "cell_type": "markdown",
      "metadata": {
        "id": "hxphjoB-3bSL"
      },
      "source": [
        "### Use .loc\n",
        "\n",
        "\n",
        "```python\n",
        "df.loc[condition, [columns]]\n",
        "\n",
        "```\n",
        "- condition: boolean series\n",
        "- keep rows where condition is True\n",
        "\n",
        "---\n",
        "\n",
        "chain conditions: `and` has priority over `or`\n",
        "\n",
        "\n",
        "- and: `&`\n",
        "\n",
        "- or: `|`\n",
        "\n",
        "- not: `~`\n"
      ]
    },
    {
      "cell_type": "code",
      "execution_count": null,
      "metadata": {
        "id": "8ZgWgF-F3bSL"
      },
      "outputs": [],
      "source": [
        "# Load dataset from csv file\n",
        "df = pd.read_csv('data/apple.csv')\n",
        "\n",
        "# slice rows with open price > 200, keep all columns\n",
        "\n",
        "\n",
        "# slice rows with date after 2018/11/01, keep 2 columns: open and close\n",
        "\n"
      ]
    },
    {
      "cell_type": "code",
      "execution_count": null,
      "metadata": {
        "id": "cR4eF7ij3bSM"
      },
      "outputs": [],
      "source": [
        "# filter with multiple conditions: open > 200 and date after 2018/11/01\n",
        "\n"
      ]
    },
    {
      "cell_type": "markdown",
      "metadata": {
        "id": "RToNEvdQ3bSN"
      },
      "source": [
        "### Filter with .query\n",
        "\n",
        "\n",
        "```python\n",
        "df.query('boolean expression')\n",
        "\n",
        "```\n",
        "- expression must be a string\n",
        "\n",
        "- use column names directly: `col1 > 0`\n",
        "\n",
        "\n",
        "---\n",
        "\n",
        "chain conditions:\n",
        "\n",
        "- normal words in expression: 'and' , 'or'\n",
        "\n"
      ]
    },
    {
      "cell_type": "code",
      "execution_count": null,
      "metadata": {
        "id": "bnktBkCy3bSO"
      },
      "outputs": [],
      "source": [
        "# filter multiple conditions: open > 200 and date after 2018/11/01\n",
        "\n",
        "\n",
        "# filter with multiple conditions: open > 200 and low < 200\n"
      ]
    },
    {
      "cell_type": "code",
      "execution_count": null,
      "metadata": {
        "id": "oSxj2n5U3bSO"
      },
      "outputs": [],
      "source": [
        "## complex filter: more than 2 conditions\n",
        "\n",
        "# complex filter: open > 200 or low < 200 and date after 2018/11/01\n",
        "\n",
        "\n",
        "# complex filter: careful with () in conditions\n"
      ]
    },
    {
      "cell_type": "markdown",
      "metadata": {
        "id": "YubCPWQc3bSP"
      },
      "source": [
        "Summary:\n",
        "- `.iloc`: choosing rows and columns by position\n",
        "- `.loc`: choose rows and columns by label and simple condition\n",
        "- `.query`: good for complex filtering"
      ]
    },
    {
      "cell_type": "markdown",
      "metadata": {
        "id": "Unu9jV8h3bSP"
      },
      "source": [
        "### Advanced filter\n"
      ]
    },
    {
      "cell_type": "markdown",
      "metadata": {
        "id": "h33n5I4D3bSP"
      },
      "source": [
        "#### Example\n",
        "\n",
        "Using the apple stock data, make a list of dataframes, each one contain dates of a specific month (Jan to Dec) and 3 columns: `date`, `close` and `volume`.\n",
        "\n",
        "---\n",
        "\n",
        "\n",
        "Main idea: transform the data, then filter.\n",
        "- easier than filter directly"
      ]
    },
    {
      "cell_type": "code",
      "execution_count": null,
      "metadata": {
        "id": "tNk6Bi463bSQ"
      },
      "outputs": [],
      "source": [
        "# load dataset from csv file\n",
        "df = pd.read_csv('data/apple.csv')\n",
        "\n",
        "# make a new column: month from date\n",
        "\n",
        "\n",
        "# loop through the dataframe, slice by month\n",
        "list_df = []\n",
        "\n",
        "\n",
        "list_df[0] # January\n",
        ""
      ]
    }
  ],
  "metadata": {
    "celltoolbar": "Slideshow",
    "kernelspec": {
      "display_name": "torch-gpu",
      "language": "python",
      "name": "torch-gpu"
    },
    "language_info": {
      "codemirror_mode": {
        "name": "ipython",
        "version": 3
      },
      "file_extension": ".py",
      "mimetype": "text/x-python",
      "name": "python",
      "nbconvert_exporter": "python",
      "pygments_lexer": "ipython3",
      "version": "3.9.15"
    },
    "varInspector": {
      "cols": {
        "lenName": 16,
        "lenType": 16,
        "lenVar": 40
      },
      "kernels_config": {
        "python": {
          "delete_cmd_postfix": "",
          "delete_cmd_prefix": "del ",
          "library": "var_list.py",
          "varRefreshCmd": "print(var_dic_list())"
        },
        "r": {
          "delete_cmd_postfix": ") ",
          "delete_cmd_prefix": "rm(",
          "library": "var_list.r",
          "varRefreshCmd": "cat(var_dic_list()) "
        }
      },
      "types_to_exclude": [
        "module",
        "function",
        "builtin_function_or_method",
        "instance",
        "_Feature"
      ],
      "window_display": false
    },
    "colab": {
      "provenance": []
    }
  },
  "nbformat": 4,
  "nbformat_minor": 0
}